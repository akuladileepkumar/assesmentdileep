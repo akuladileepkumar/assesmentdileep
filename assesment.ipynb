{
 "cells": [
  {
   "cell_type": "code",
   "execution_count": 1,
   "id": "84c92f93",
   "metadata": {},
   "outputs": [
    {
     "name": "stdout",
     "output_type": "stream",
     "text": [
      "1,4,9,16,"
     ]
    }
   ],
   "source": [
    "list1=[1,2,3,4]\n",
    "for i in list1:\n",
    "    i=i**2\n",
    "    print(i,end=\",\")"
   ]
  },
  {
   "cell_type": "code",
   "execution_count": 1,
   "id": "9fe58cde",
   "metadata": {},
   "outputs": [],
   "source": [
    "#copy, difference, intersection, symetric_difference, union, issuperset, issubset, isdisjoint"
   ]
  },
  {
   "cell_type": "code",
   "execution_count": 2,
   "id": "ed403ffc",
   "metadata": {},
   "outputs": [],
   "source": [
    "#copy\n",
    "s={1,2,3,4,\"h\",\"k\",8,9}"
   ]
  },
  {
   "cell_type": "code",
   "execution_count": 3,
   "id": "59583c39",
   "metadata": {},
   "outputs": [
    {
     "data": {
      "text/plain": [
       "{1, 2, 3, 4, 8, 9, 'h', 'k'}"
      ]
     },
     "execution_count": 3,
     "metadata": {},
     "output_type": "execute_result"
    }
   ],
   "source": [
    "s"
   ]
  },
  {
   "cell_type": "code",
   "execution_count": 4,
   "id": "80084a31",
   "metadata": {},
   "outputs": [],
   "source": [
    "s1=s.copy()"
   ]
  },
  {
   "cell_type": "code",
   "execution_count": 5,
   "id": "a1ecf781",
   "metadata": {},
   "outputs": [
    {
     "data": {
      "text/plain": [
       "{1, 2, 3, 4, 8, 9, 'h', 'k'}"
      ]
     },
     "execution_count": 5,
     "metadata": {},
     "output_type": "execute_result"
    }
   ],
   "source": [
    "s1"
   ]
  },
  {
   "cell_type": "code",
   "execution_count": 6,
   "id": "b3bf9941",
   "metadata": {},
   "outputs": [],
   "source": [
    "#diference\n",
    "s2={1,2,3,5,6,\"h\",8}"
   ]
  },
  {
   "cell_type": "code",
   "execution_count": 8,
   "id": "6d6c99d2",
   "metadata": {},
   "outputs": [],
   "source": [
    "d=s1.difference(s2)"
   ]
  },
  {
   "cell_type": "code",
   "execution_count": 9,
   "id": "87331435",
   "metadata": {},
   "outputs": [
    {
     "data": {
      "text/plain": [
       "{4, 9, 'k'}"
      ]
     },
     "execution_count": 9,
     "metadata": {},
     "output_type": "execute_result"
    }
   ],
   "source": [
    "d"
   ]
  },
  {
   "cell_type": "code",
   "execution_count": 10,
   "id": "2351a0e1",
   "metadata": {},
   "outputs": [
    {
     "data": {
      "text/plain": [
       "{1, 2, 3, 4, 8, 9, 'h', 'k'}"
      ]
     },
     "execution_count": 10,
     "metadata": {},
     "output_type": "execute_result"
    }
   ],
   "source": [
    "#intensecation\n",
    "s1"
   ]
  },
  {
   "cell_type": "code",
   "execution_count": 11,
   "id": "86fddee2",
   "metadata": {},
   "outputs": [
    {
     "data": {
      "text/plain": [
       "{1, 2, 3, 5, 6, 8, 'h'}"
      ]
     },
     "execution_count": 11,
     "metadata": {},
     "output_type": "execute_result"
    }
   ],
   "source": [
    "s2"
   ]
  },
  {
   "cell_type": "code",
   "execution_count": 12,
   "id": "ad9029d9",
   "metadata": {},
   "outputs": [],
   "source": [
    "f=s1.intersection(s2)"
   ]
  },
  {
   "cell_type": "code",
   "execution_count": 13,
   "id": "a91ec5bd",
   "metadata": {},
   "outputs": [
    {
     "data": {
      "text/plain": [
       "{1, 2, 3, 8, 'h'}"
      ]
     },
     "execution_count": 13,
     "metadata": {},
     "output_type": "execute_result"
    }
   ],
   "source": [
    "f"
   ]
  },
  {
   "cell_type": "code",
   "execution_count": 19,
   "id": "e7eaba9f",
   "metadata": {},
   "outputs": [],
   "source": [
    "#symetric_difference\n",
    "h={1,2,3,\"h\",6,7,\"u\"}\n",
    "j={1,2,6,7}"
   ]
  },
  {
   "cell_type": "code",
   "execution_count": 16,
   "id": "a6ab9a96",
   "metadata": {},
   "outputs": [
    {
     "data": {
      "text/plain": [
       "{1, 2, 3, 6, 7, 'h', 'u'}"
      ]
     },
     "execution_count": 16,
     "metadata": {},
     "output_type": "execute_result"
    }
   ],
   "source": [
    "h"
   ]
  },
  {
   "cell_type": "code",
   "execution_count": 20,
   "id": "8a818637",
   "metadata": {},
   "outputs": [
    {
     "data": {
      "text/plain": [
       "{1, 2, 6, 7}"
      ]
     },
     "execution_count": 20,
     "metadata": {},
     "output_type": "execute_result"
    }
   ],
   "source": [
    "j"
   ]
  },
  {
   "cell_type": "code",
   "execution_count": 22,
   "id": "2cc0e9e6",
   "metadata": {},
   "outputs": [],
   "source": [
    "k=h.symmetric_difference(j)"
   ]
  },
  {
   "cell_type": "code",
   "execution_count": 23,
   "id": "d932eeb6",
   "metadata": {},
   "outputs": [
    {
     "data": {
      "text/plain": [
       "{3, 'h', 'u'}"
      ]
     },
     "execution_count": 23,
     "metadata": {},
     "output_type": "execute_result"
    }
   ],
   "source": [
    "k"
   ]
  },
  {
   "cell_type": "code",
   "execution_count": 24,
   "id": "288be4eb",
   "metadata": {},
   "outputs": [],
   "source": [
    "#union\n",
    "k={1,2,3,4,\"h\",5}\n",
    "l={1,4,6,5,7}"
   ]
  },
  {
   "cell_type": "code",
   "execution_count": 25,
   "id": "5a2b3365",
   "metadata": {},
   "outputs": [],
   "source": [
    "o=k.union(l)"
   ]
  },
  {
   "cell_type": "code",
   "execution_count": 26,
   "id": "6127e2de",
   "metadata": {},
   "outputs": [
    {
     "data": {
      "text/plain": [
       "{1, 2, 3, 4, 5, 6, 7, 'h'}"
      ]
     },
     "execution_count": 26,
     "metadata": {},
     "output_type": "execute_result"
    }
   ],
   "source": [
    "o"
   ]
  },
  {
   "cell_type": "code",
   "execution_count": 27,
   "id": "07bc00f4",
   "metadata": {},
   "outputs": [],
   "source": [
    "#issuperset\n",
    "k={1,2,3,4,\"h\",5}\n",
    "l={1,4,6,5,7}"
   ]
  },
  {
   "cell_type": "code",
   "execution_count": 29,
   "id": "b23afd3e",
   "metadata": {},
   "outputs": [
    {
     "data": {
      "text/plain": [
       "False"
      ]
     },
     "execution_count": 29,
     "metadata": {},
     "output_type": "execute_result"
    }
   ],
   "source": [
    "k.issuperset(l)"
   ]
  },
  {
   "cell_type": "code",
   "execution_count": 30,
   "id": "f00aaeb4",
   "metadata": {},
   "outputs": [],
   "source": [
    "#issubset\n",
    "l={1,2,3,4,\"n\",\"j\",5,6,8}\n",
    "p={1,2,3,5}"
   ]
  },
  {
   "cell_type": "code",
   "execution_count": 31,
   "id": "4005e81e",
   "metadata": {},
   "outputs": [
    {
     "data": {
      "text/plain": [
       "{1, 2, 3, 4, 5, 6, 8, 'j', 'n'}"
      ]
     },
     "execution_count": 31,
     "metadata": {},
     "output_type": "execute_result"
    }
   ],
   "source": [
    "l"
   ]
  },
  {
   "cell_type": "code",
   "execution_count": 32,
   "id": "5e6ccbd0",
   "metadata": {},
   "outputs": [
    {
     "data": {
      "text/plain": [
       "{1, 2, 3, 5}"
      ]
     },
     "execution_count": 32,
     "metadata": {},
     "output_type": "execute_result"
    }
   ],
   "source": [
    "p"
   ]
  },
  {
   "cell_type": "code",
   "execution_count": 33,
   "id": "63b0eaf4",
   "metadata": {},
   "outputs": [],
   "source": [
    "x=l.issubset(p)"
   ]
  },
  {
   "cell_type": "code",
   "execution_count": 34,
   "id": "4582bd75",
   "metadata": {},
   "outputs": [
    {
     "data": {
      "text/plain": [
       "False"
      ]
     },
     "execution_count": 34,
     "metadata": {},
     "output_type": "execute_result"
    }
   ],
   "source": [
    "x"
   ]
  },
  {
   "cell_type": "code",
   "execution_count": 35,
   "id": "3a792a25",
   "metadata": {},
   "outputs": [],
   "source": [
    "#isdisjoint\n",
    "a={1,2,3,4,5,6,7}\n",
    "b={1,2,5,6}"
   ]
  },
  {
   "cell_type": "code",
   "execution_count": 36,
   "id": "5c098ee4",
   "metadata": {},
   "outputs": [
    {
     "data": {
      "text/plain": [
       "{1, 2, 3, 4, 5, 6, 7}"
      ]
     },
     "execution_count": 36,
     "metadata": {},
     "output_type": "execute_result"
    }
   ],
   "source": [
    "a"
   ]
  },
  {
   "cell_type": "code",
   "execution_count": 37,
   "id": "3ea63bae",
   "metadata": {},
   "outputs": [
    {
     "data": {
      "text/plain": [
       "{1, 2, 5, 6}"
      ]
     },
     "execution_count": 37,
     "metadata": {},
     "output_type": "execute_result"
    }
   ],
   "source": [
    "b"
   ]
  },
  {
   "cell_type": "code",
   "execution_count": 38,
   "id": "4405b19a",
   "metadata": {},
   "outputs": [
    {
     "data": {
      "text/plain": [
       "False"
      ]
     },
     "execution_count": 38,
     "metadata": {},
     "output_type": "execute_result"
    }
   ],
   "source": [
    "a.isdisjoint(b)"
   ]
  },
  {
   "cell_type": "code",
   "execution_count": null,
   "id": "259b4d22",
   "metadata": {},
   "outputs": [],
   "source": []
  }
 ],
 "metadata": {
  "kernelspec": {
   "display_name": "Python 3 (ipykernel)",
   "language": "python",
   "name": "python3"
  },
  "language_info": {
   "codemirror_mode": {
    "name": "ipython",
    "version": 3
   },
   "file_extension": ".py",
   "mimetype": "text/x-python",
   "name": "python",
   "nbconvert_exporter": "python",
   "pygments_lexer": "ipython3",
   "version": "3.11.4"
  }
 },
 "nbformat": 4,
 "nbformat_minor": 5
}
